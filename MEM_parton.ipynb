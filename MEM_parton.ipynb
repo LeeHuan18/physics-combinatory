{
 "cells": [
  {
   "cell_type": "code",
   "execution_count": 1,
   "metadata": {},
   "outputs": [
    {
     "name": "stdout",
     "output_type": "stream",
     "text": [
      "Welcome to JupyROOT 6.19/01\n"
     ]
    }
   ],
   "source": [
    "import numpy as np\n",
    "import matplotlib.pyplot as plt\n",
    "import copy\n",
    "import math\n",
    "\n",
    "from ROOT import TLorentzVector"
   ]
  },
  {
   "cell_type": "code",
   "execution_count": 2,
   "metadata": {},
   "outputs": [],
   "source": [
    "import sys\n",
    "# insert at 1, 0 is the script path (or '' in REPL)\n",
    "sys.path.insert(1, '/mnt/10Ti/lihuang/combinatory/data/mg5_data/pp2tt_decay_python/SubProcesses')\n",
    "import allmatrix2py\n",
    "\n"
   ]
  },
  {
   "cell_type": "code",
   "execution_count": 3,
   "metadata": {},
   "outputs": [],
   "source": [
    "lhe_file = \"/mnt/10Ti/lihuang/combinatory/data/mg5_data/pp2tt/Events/run_01_0/unweighted_events.lhe\"\n",
    "\n",
    "with open(lhe_file, 'r') as f:\n",
    "    lines = f.readlines()\n",
    "    "
   ]
  },
  {
   "cell_type": "code",
   "execution_count": 4,
   "metadata": {},
   "outputs": [
    {
     "name": "stdout",
     "output_type": "stream",
     "text": [
      "Start Events\n",
      "CPU times: user 39.6 s, sys: 570 ms, total: 40.2 s\n",
      "Wall time: 40 s\n"
     ]
    }
   ],
   "source": [
    "%%time\n",
    "count = 0\n",
    "event_info = []\n",
    "for line in lines:\n",
    "    if(line=='</init>\\n'):\n",
    "        print (\"Start Events\")\n",
    "    if(line=='<event>\\n'):\n",
    "        count+=1\n",
    "        one_event_info = []\n",
    "    if(count>=1):\n",
    "        line = line.split()\n",
    "        if(line[0].lstrip('-+').isdigit()):\n",
    "            if(len(line)==13 and int(line[0]) in (1, 2, 3, 4, -1, -2, -3, -4, 21, -11, -12, -13, -14, 11, 12, 13, 14, 5, -5)):\n",
    "                one_event_info.append([float(line[9]), float(line[6]), float(line[7]),  float(line[8]), int(line[0]), float(line[12])])\n",
    "                \n",
    "    if(line==['<event>']):\n",
    "        event_info.append(one_event_info)\n",
    "                \n",
    "\n",
    "        \n",
    "event_info = np.array(event_info)\n"
   ]
  },
  {
   "cell_type": "code",
   "execution_count": 5,
   "metadata": {},
   "outputs": [],
   "source": [
    "allmatrix2py.initialise('/mnt/10Ti/lihuang/combinatory/data/mg5_data/pp2tt_decay_python/Cards/param_card.dat')\n",
    "\n",
    "def invert_momenta(p):\n",
    "    \"\"\" fortran/C-python do not order table in the same order\"\"\"\n",
    "    new_p = []\n",
    "    for i in range(len(p[0])):\n",
    "        new_p.append([0]*len(p))\n",
    "    for i, onep in enumerate(p):\n",
    "        for j, x in enumerate(onep):\n",
    "            new_p[j][i] = x\n",
    "    return new_p\n",
    "\n",
    "def cal_smatrix(p, nhel, pdgs, scale2=0., alphas=0.13):\n",
    "    p, nhel, pdgs = p, nhel, pdgs\n",
    "    p = invert_momenta(p)\n",
    "    ans = allmatrix2py.smatrixhel(pdgs, p, alphas, scale2, nhel)\n",
    "    return ans\n"
   ]
  },
  {
   "cell_type": "code",
   "execution_count": 6,
   "metadata": {},
   "outputs": [
    {
     "name": "stdout",
     "output_type": "stream",
     "text": [
      "CPU times: user 1min 10s, sys: 870 ms, total: 1min 11s\n",
      "Wall time: 1min 10s\n"
     ]
    }
   ],
   "source": [
    "%%time\n",
    "result = []\n",
    "for event in event_info:\n",
    "    p = event[:,[0, 1, 2, 3]]\n",
    "    flip_p = [p[0], p[1], p[2], p[3], p[7], p[5], p[6], p[4]]\n",
    "    flip_p = np.array(flip_p)\n",
    "    nhel = -1\n",
    "    pdgs = event[:,4]\n",
    "    if(pdgs[0]<0 and pdgs[1]>0):\n",
    "        pdgs[0], pdgs[1] = pdgs[1], pdgs[0]\n",
    "        p[0], p[1] = p[1], p[0]\n",
    "        flip_p[0], flip_p[1] = flip_p[1], flip_p[0]\n",
    "    #pdgs = [ 21.,  21., -11.,  12.,   5.,  13., -14.,  -5.]\n",
    "    #ans = cal_smatrix(p=p, nhel=nhel, pdgs=pdgs)\n",
    "    #flip_ans = cal_smatrix(p=flip_p, nhel=nhel, pdgs=pdgs)\n",
    "    ans = cal_smatrix(p=p, nhel=nhel, pdgs=pdgs)\n",
    "    flip_ans = cal_smatrix(p=flip_p, nhel=nhel, pdgs=pdgs)\n",
    "\n",
    "    #print (ans, flip_ans)\n",
    "    #break\n",
    "    result.append([ans, flip_ans])\n",
    "    \n",
    "result = np.array(result)"
   ]
  },
  {
   "cell_type": "code",
   "execution_count": 7,
   "metadata": {},
   "outputs": [
    {
     "data": {
      "image/png": "[encoded data removed]",
      "text/plain": [
       "<Figure size 432x288 with 1 Axes>"
      ]
     },
     "metadata": {
      "needs_background": "light"
     },
     "output_type": "display_data"
    }
   ],
   "source": [
    "plt.hist(result[:,0]-result[:,1], bins=np.linspace(-0.005, 0.01), color='r', alpha=0.4, label='C-W')\n",
    "plt.legend(loc='best', fontsize=15)\n",
    "plt.xlabel(\"MEM\", fontsize=15)\n",
    "plt.ylabel(\"N\", fontsize=15)\n",
    "plt.yscale('log')\n",
    "plt.show()\n"
   ]
  },
  {
   "cell_type": "code",
   "execution_count": 8,
   "metadata": {},
   "outputs": [
    {
     "data": {
      "text/plain": [
       "0.938481"
      ]
     },
     "execution_count": 8,
     "metadata": {},
     "output_type": "execute_result"
    }
   ],
   "source": [
    "sum(result[:,0]>result[:,1])/len(result)\n"
   ]
  },
  {
   "cell_type": "code",
   "execution_count": null,
   "metadata": {},
   "outputs": [],
   "source": []
  }
 ],
 "metadata": {
  "kernelspec": {
   "display_name": "Python 3",
   "language": "python",
   "name": "python3"
  },
  "language_info": {
   "codemirror_mode": {
    "name": "ipython",
    "version": 3
   },
   "file_extension": ".py",
   "mimetype": "text/x-python",
   "name": "python",
   "nbconvert_exporter": "python",
   "pygments_lexer": "ipython3",
   "version": "3.7.3"
  }
 },
 "nbformat": 4,
 "nbformat_minor": 4
}
