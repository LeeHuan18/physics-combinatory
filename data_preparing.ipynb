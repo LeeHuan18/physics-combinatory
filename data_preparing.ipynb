{
 "cells": [
  {
   "cell_type": "code",
   "execution_count": 1,
   "metadata": {},
   "outputs": [
    {
     "name": "stdout",
     "output_type": "stream",
     "text": [
      "Welcome to JupyROOT 6.19/01\n"
     ]
    }
   ],
   "source": [
    "from ROOT import gSystem, TChain, TLorentzVector, TFile, TTree, TRandom2, gInterpreter\n",
    "import time\n",
    "import numpy as np\n"
   ]
  },
  {
   "cell_type": "code",
   "execution_count": 2,
   "metadata": {},
   "outputs": [
    {
     "data": {
      "text/plain": [
       "0"
      ]
     },
     "execution_count": 2,
     "metadata": {},
     "output_type": "execute_result"
    },
    {
     "name": "stderr",
     "output_type": "stream",
     "text": [
      "Warning in <TClassTable::Add>: class ExRootTreeReader already in TClassTable\n",
      "Warning in <TClassTable::Add>: class ExRootTreeWriter already in TClassTable\n",
      "Warning in <TClassTable::Add>: class ExRootTreeBranch already in TClassTable\n",
      "Warning in <TClassTable::Add>: class ExRootResult already in TClassTable\n",
      "Warning in <TClassTable::Add>: class ExRootClassifier already in TClassTable\n",
      "Warning in <TClassTable::Add>: class ExRootFilter already in TClassTable\n"
     ]
    }
   ],
   "source": [
    "gInterpreter.AddIncludePath(\"/home/lihuang/tools/MG5_aMC_v2_6_6/Delphes/\")\n",
    "gInterpreter.AddIncludePath(\"/home/lihuang/tools/MG5_aMC_v2_6_6/Delphes/external/\")\n",
    "gInterpreter.Declare('#include \"/home/lihuang/tools/MG5_aMC_v2_6_6/Delphes/classes/DelphesClasses.h\"')\n",
    "\n",
    "gInterpreter.Declare('#include \"/home/lihuang/tools/MG5_aMC_v2_6_6/Delphes/external/ExRootAnalysis/ExRootAnalysisLinkDef.h\"')\n",
    "\n",
    "gSystem.Load(\"/home/lihuang/tools/MG5_aMC_v2_6_6/Delphes/libDelphes.so\")\n",
    "\n",
    "\n",
    "gInterpreter.Declare('#include \"/home/lihuang/tools/MG5_aMC_v2_6_6/ExRootAnalysis/ExRootAnalysis/ExRootClasses.h\"')\n",
    "gSystem.Load('/home/lihuang/tools/root6/lib/libHist.so')\n",
    "gSystem.Load('/home/lihuang/tools/root6/lib/libGraf.so')\n",
    "gSystem.Load('/home/lihuang/tools/root6/lib/libGpad.so')\n",
    "\n",
    "gSystem.Load('/home/lihuang/tools/MG5_aMC_v2_6_6/ExRootAnalysis/libExRootAnalysis.so')\n"
   ]
  },
  {
   "cell_type": "code",
   "execution_count": 3,
   "metadata": {},
   "outputs": [],
   "source": [
    "def smear(particle, PID):\n",
    "    if(PID==\"quark\"):\n",
    "        E, px, py, pz = particle.E(), particle.Px(), particle.Py(), particle.Pz()\n",
    "        sigma = ((5.3/E)**2+(0.74/E**0.5)**2+0.05)**0.5\n",
    "        new_E = np.random.normal(E, E*sigma)\n",
    "        ratio = new_E/E\n",
    "        new_px, new_py, new_pz = px*ratio, py*ratio, pz*ratio\n",
    "        new_particle = TLorentzVector()\n",
    "        new_particle.SetPxPyPzE(new_px, new_py, new_pz, new_E)\n",
    "        if(new_E<=0):\n",
    "            new_particle.SetPxPyPzE(0, 0, 0, 0)\n",
    "        \n",
    "    if(PID==\"electron\"):\n",
    "        E, px, py, pz = particle.E(), particle.Px(), particle.Py(), particle.Pz()\n",
    "        sigma = 0.3/E+0.1/E**0.5+0.01\n",
    "        new_E = np.random.normal(E, E*sigma)\n",
    "        ratio = new_E/E\n",
    "        new_px, new_py, new_pz = px*ratio, py*ratio, pz*ratio\n",
    "        new_particle = TLorentzVector()\n",
    "        new_particle.SetPxPyPzE(new_px, new_py, new_pz, new_E)\n",
    "        if(new_E<=0):\n",
    "            new_particle.SetPxPyPzE(0, 0, 0, 0)\n",
    "\n",
    "    if(PID==\"muon\"):\n",
    "        E, px, py, pz = particle.E(), particle.Px(), particle.Py(), particle.Pz()\n",
    "        sigma_ID = (0.023035**2+(0.000347*E)**2)**0.5\n",
    "        sigma_MS = ((0.12/E)**0.5+0.03278**2+(0.00014*E)**2)**0.5\n",
    "        sigma = sigma_ID*sigma_MS/(sigma_ID**2+sigma_MS**2)**0.5\n",
    "        new_E = np.random.normal(E, E*sigma)\n",
    "        ratio = new_E/E\n",
    "        new_px, new_py, new_pz = px*ratio, py*ratio, pz*ratio\n",
    "        new_particle = TLorentzVector()\n",
    "        new_particle.SetPxPyPzE(new_px, new_py, new_pz, new_E)\n",
    "        if(new_E<=0):\n",
    "            new_particle.SetPxPyPzE(0, 0, 0, 0)\n",
    "\n",
    "    return new_particle, sigma"
   ]
  },
  {
   "cell_type": "code",
   "execution_count": 4,
   "metadata": {},
   "outputs": [
    {
     "name": "stdout",
     "output_type": "stream",
     "text": [
      "The event number is 1000000\n"
     ]
    }
   ],
   "source": [
    "chain1 = TChain(\"LHEF\")\n",
    "chain1.Add('/mnt/10Ti/lihuang/combinatory/data/mg5_data/pp2tt/Events/run_01_0/unweighted_events.root')\n",
    "print (\"The event number is\", chain1.GetEntries())\n"
   ]
  },
  {
   "cell_type": "code",
   "execution_count": 5,
   "metadata": {},
   "outputs": [
    {
     "name": "stdout",
     "output_type": "stream",
     "text": [
      "Time: 0.00\n",
      "CPU times: user 638 ms, sys: 149 ms, total: 787 ms\n",
      "Wall time: 782 ms\n"
     ]
    }
   ],
   "source": [
    "%%time\n",
    "start_time = time.time()\n",
    "result1 = []\n",
    "\n",
    "for count, event in enumerate(chain1):\n",
    "    if(count==10000): break\n",
    "    b1, b2, l1, l2 = TLorentzVector(), TLorentzVector(), TLorentzVector(), TLorentzVector()\n",
    "    neu1, neu2 = TLorentzVector(), TLorentzVector()\n",
    "    for particle in event.Particle:        \n",
    "        if(particle.PID==5 and particle.Status==1):\n",
    "            b1.SetPxPyPzE(particle.Px, particle.Py, particle.Pz, particle.E)\n",
    "        if(particle.PID==-5 and particle.Status==1):\n",
    "            b2.SetPxPyPzE(particle.Px, particle.Py, particle.Pz, particle.E)\n",
    "        if((particle.PID==-11 or particle.PID==-13) and particle.Status==1):\n",
    "            l1.SetPxPyPzE(particle.Px, particle.Py, particle.Pz, particle.E)\n",
    "        if((particle.PID==11 or particle.PID==13) and particle.Status==1):\n",
    "            l2.SetPxPyPzE(particle.Px, particle.Py, particle.Pz, particle.E)\n",
    "        if((particle.PID==12 or particle.PID==14) and particle.Status==1):\n",
    "            neu1.SetPxPyPzE(particle.Px, particle.Py, particle.Pz, particle.E)\n",
    "        if((particle.PID==-12 or particle.PID==-14) and particle.Status==1):\n",
    "            neu2.SetPxPyPzE(particle.Px, particle.Py, particle.Pz, particle.E)\n",
    "        met = neu1+neu2\n",
    "\n",
    "    #print ((b1+b2+l1+l2).Pt(), met.Pt())\n",
    "    result1.append([b1.E(), b1.Px(), b1.Py(), b1.Pz(), \n",
    "                   l1.E(), l1.Px(), l1.Py(), l1.Pz(), \n",
    "                   b2.E(), b2.Px(), b2.Py(), b2.Pz(),\n",
    "                   l2.E(), l2.Px(), l2.Py(), l2.Pz(),\n",
    "                   (b1+l1).M(), b1.DeltaR(l1),\n",
    "                   (b2+l2).M(), b2.DeltaR(l2),\n",
    "                   (b2+l1).M(), b2.DeltaR(l1),\n",
    "                   (b1+l2).M(), b1.DeltaR(l2),\n",
    "                   met.Px(), met.Py()])\n",
    "\n",
    "print(\"Time: %.2f\" %((time.time()-start_time)/3600.))\n",
    "\n",
    "result1 = np.array(result1)\n",
    "\n",
    "np.save(\"./pp_tt_parton14TeV\", result1)"
   ]
  },
  {
   "cell_type": "code",
   "execution_count": 6,
   "metadata": {},
   "outputs": [
    {
     "name": "stdout",
     "output_type": "stream",
     "text": [
      "Time: 0.00\n",
      "CPU times: user 881 ms, sys: 76 ms, total: 957 ms\n",
      "Wall time: 950 ms\n"
     ]
    }
   ],
   "source": [
    "%%time\n",
    "start_time = time.time()\n",
    "result = []\n",
    "\n",
    "sigma_ = []\n",
    "for count, event in enumerate(chain1):\n",
    "    if(count==10000): break\n",
    "    b1, b2, l1, l2 = TLorentzVector(), TLorentzVector(), TLorentzVector(), TLorentzVector()\n",
    "    neu1, neu2 = TLorentzVector(), TLorentzVector()\n",
    "    for particle in event.Particle:        \n",
    "        if(particle.PID==5 and particle.Status==1):\n",
    "            b1.SetPxPyPzE(particle.Px, particle.Py, particle.Pz, particle.E)\n",
    "            b1, _ = smear(b1, PID=\"quark\")\n",
    "        if(particle.PID==-5 and particle.Status==1):\n",
    "            b2.SetPxPyPzE(particle.Px, particle.Py, particle.Pz, particle.E)\n",
    "            b2, _ = smear(b2, PID=\"quark\")\n",
    "        if((particle.PID==-11 or particle.PID==-13) and particle.Status==1):\n",
    "            l1.SetPxPyPzE(particle.Px, particle.Py, particle.Pz, particle.E)\n",
    "            if(particle.PID==-11):\n",
    "                l1, _ = smear(l1, PID=\"electron\")\n",
    "            if(particle.PID==-13):\n",
    "                l1, _ = smear(l1, PID=\"muon\")\n",
    "        if((particle.PID==11 or particle.PID==13) and particle.Status==1):\n",
    "            l2.SetPxPyPzE(particle.Px, particle.Py, particle.Pz, particle.E)\n",
    "            if(particle.PID==11):\n",
    "                l2, _ = smear(l2, PID=\"electron\")\n",
    "            if(particle.PID==13):\n",
    "                l2, _ = smear(l2, PID=\"muon\")\n",
    "\n",
    "    tot = b1+b2+l1+l2\n",
    "\n",
    "    #print ((b1+b2+l1+l2).Pt(), met.Pt())\n",
    "    result.append([b1.E(), b1.Px(), b1.Py(), b1.Pz(), \n",
    "                   l1.E(), l1.Px(), l1.Py(), l1.Pz(), \n",
    "                   b2.E(), b2.Px(), b2.Py(), b2.Pz(),\n",
    "                   l2.E(), l2.Px(), l2.Py(), l2.Pz(),\n",
    "                   (b1+l1).M(), b1.DeltaR(l1),\n",
    "                   (b2+l2).M(), b2.DeltaR(l2),\n",
    "                   (b2+l1).M(), b2.DeltaR(l1),\n",
    "                   (b1+l2).M(), b1.DeltaR(l2),\n",
    "                   -tot.Px(), -tot.Py()])\n",
    "\n",
    "print(\"Time: %.2f\" %((time.time()-start_time)/3600.))\n",
    "\n",
    "result = np.array(result)\n",
    "\n",
    "np.save(\"./pp_tt_parton14TeV_smearing\", result)\n"
   ]
  },
  {
   "cell_type": "code",
   "execution_count": null,
   "metadata": {},
   "outputs": [],
   "source": []
  }
 ],
 "metadata": {
  "kernelspec": {
   "display_name": "Python 3",
   "language": "python",
   "name": "python3"
  },
  "language_info": {
   "codemirror_mode": {
    "name": "ipython",
    "version": 3
   },
   "file_extension": ".py",
   "mimetype": "text/x-python",
   "name": "python",
   "nbconvert_exporter": "python",
   "pygments_lexer": "ipython3",
   "version": "3.7.3"
  }
 },
 "nbformat": 4,
 "nbformat_minor": 4
}
